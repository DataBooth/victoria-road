{
 "cells": [
  {
   "cell_type": "code",
   "execution_count": 12,
   "metadata": {},
   "outputs": [],
   "source": [
    "import pandas as pd\n",
    "import yaml\n",
    "import requests\n",
    "import ipywidgets\n",
    "\n",
    "from mosaic_widget import MosaicWidget"
   ]
  },
  {
   "cell_type": "code",
   "execution_count": 13,
   "metadata": {},
   "outputs": [],
   "source": [
    "weather = pd.read_csv(\"https://uwdata.github.io/mosaic-datasets/data/seattle-weather.csv\", parse_dates=['date'])"
   ]
  },
  {
   "cell_type": "code",
   "execution_count": 14,
   "metadata": {},
   "outputs": [],
   "source": [
    "# Load weather spec, remove data key to ensure load from Pandas\n",
    "url = \"https://raw.githubusercontent.com/uwdata/mosaic/main/specs/yaml/weather.yaml\"\n",
    "response = requests.get(url)\n",
    "\n",
    "if response.status_code == 200:\n",
    "    spec = yaml.safe_load(response.content)\n",
    "    spec.pop(\"data\")\n",
    "else:\n",
    "    print(\"Failed to fetch the YAML file\")"
   ]
  },
  {
   "cell_type": "code",
   "execution_count": 15,
   "metadata": {},
   "outputs": [
    {
     "data": {
      "text/html": [
       "<div>\n",
       "<style scoped>\n",
       "    .dataframe tbody tr th:only-of-type {\n",
       "        vertical-align: middle;\n",
       "    }\n",
       "\n",
       "    .dataframe tbody tr th {\n",
       "        vertical-align: top;\n",
       "    }\n",
       "\n",
       "    .dataframe thead th {\n",
       "        text-align: right;\n",
       "    }\n",
       "</style>\n",
       "<table border=\"1\" class=\"dataframe\">\n",
       "  <thead>\n",
       "    <tr style=\"text-align: right;\">\n",
       "      <th></th>\n",
       "      <th>date</th>\n",
       "      <th>precipitation</th>\n",
       "      <th>temp_max</th>\n",
       "      <th>temp_min</th>\n",
       "      <th>wind</th>\n",
       "      <th>weather</th>\n",
       "    </tr>\n",
       "  </thead>\n",
       "  <tbody>\n",
       "    <tr>\n",
       "      <th>0</th>\n",
       "      <td>2012-01-01</td>\n",
       "      <td>0.0</td>\n",
       "      <td>12.8</td>\n",
       "      <td>5.0</td>\n",
       "      <td>4.7</td>\n",
       "      <td>drizzle</td>\n",
       "    </tr>\n",
       "    <tr>\n",
       "      <th>1</th>\n",
       "      <td>2012-01-02</td>\n",
       "      <td>10.9</td>\n",
       "      <td>10.6</td>\n",
       "      <td>2.8</td>\n",
       "      <td>4.5</td>\n",
       "      <td>rain</td>\n",
       "    </tr>\n",
       "    <tr>\n",
       "      <th>2</th>\n",
       "      <td>2012-01-03</td>\n",
       "      <td>0.8</td>\n",
       "      <td>11.7</td>\n",
       "      <td>7.2</td>\n",
       "      <td>2.3</td>\n",
       "      <td>rain</td>\n",
       "    </tr>\n",
       "    <tr>\n",
       "      <th>3</th>\n",
       "      <td>2012-01-04</td>\n",
       "      <td>20.3</td>\n",
       "      <td>12.2</td>\n",
       "      <td>5.6</td>\n",
       "      <td>4.7</td>\n",
       "      <td>rain</td>\n",
       "    </tr>\n",
       "    <tr>\n",
       "      <th>4</th>\n",
       "      <td>2012-01-05</td>\n",
       "      <td>1.3</td>\n",
       "      <td>8.9</td>\n",
       "      <td>2.8</td>\n",
       "      <td>6.1</td>\n",
       "      <td>rain</td>\n",
       "    </tr>\n",
       "  </tbody>\n",
       "</table>\n",
       "</div>"
      ],
      "text/plain": [
       "        date  precipitation  temp_max  temp_min  wind  weather\n",
       "0 2012-01-01            0.0      12.8       5.0   4.7  drizzle\n",
       "1 2012-01-02           10.9      10.6       2.8   4.5     rain\n",
       "2 2012-01-03            0.8      11.7       7.2   2.3     rain\n",
       "3 2012-01-04           20.3      12.2       5.6   4.7     rain\n",
       "4 2012-01-05            1.3       8.9       2.8   6.1     rain"
      ]
     },
     "execution_count": 15,
     "metadata": {},
     "output_type": "execute_result"
    }
   ],
   "source": [
    "weather.head()"
   ]
  },
  {
   "cell_type": "code",
   "execution_count": 18,
   "metadata": {},
   "outputs": [
    {
     "data": {
      "application/vnd.jupyter.widget-view+json": {
       "model_id": "7af4ddd37b6f4153a5b8910fcce370d3",
       "version_major": 2,
       "version_minor": 0
      },
      "text/plain": [
       "MosaicWidget(spec={'meta': {'title': 'Seattle Weather', 'description': 'An interactive view of Seattle’s weath…"
      ]
     },
     "execution_count": 18,
     "metadata": {},
     "output_type": "execute_result"
    }
   ],
   "source": [
    "MosaicWidget(spec, data = {\"weather\": weather})"
   ]
  },
  {
   "cell_type": "code",
   "execution_count": 17,
   "metadata": {},
   "outputs": [
    {
     "data": {
      "text/plain": [
       "{'meta': {'title': 'Seattle Weather',\n",
       "  'description': 'An interactive view of Seattle’s weather, including maximum temperature, amount of precipitation, and type of weather. By dragging on the scatter plot, you can see the proportion of days in that range that have sun, fog, drizzle, rain, or snow.\\n',\n",
       "  'credit': 'Based on a [Vega-Lite/Altair example](https://vega.github.io/vega-lite/examples/interactive_seattle_weather.html) by Jake Vanderplas.'},\n",
       " 'params': {'click': {'select': 'single'},\n",
       "  'domain': ['sun', 'fog', 'drizzle', 'rain', 'snow'],\n",
       "  'colors': ['#e7ba52', '#a7a7a7', '#aec7e8', '#1f77b4', '#9467bd']},\n",
       " 'vconcat': [{'hconcat': [{'plot': [{'mark': 'dot',\n",
       "       'data': {'from': 'weather', 'filterBy': '$click'},\n",
       "       'x': {'dateMonthDay': 'date'},\n",
       "       'y': 'temp_max',\n",
       "       'fill': 'weather',\n",
       "       'r': 'precipitation',\n",
       "       'fillOpacity': 0.7},\n",
       "      {'select': 'intervalX',\n",
       "       'as': '$range',\n",
       "       'brush': {'fill': 'none', 'stroke': '#888'}},\n",
       "      {'select': 'highlight',\n",
       "       'by': '$range',\n",
       "       'fill': '#ccc',\n",
       "       'fillOpacity': 0.2},\n",
       "      {'legend': 'color', 'as': '$click', 'columns': 1}],\n",
       "     'xyDomain': 'Fixed',\n",
       "     'xTickFormat': '%b',\n",
       "     'colorDomain': '$domain',\n",
       "     'colorRange': '$colors',\n",
       "     'rDomain': 'Fixed',\n",
       "     'rRange': [2, 10],\n",
       "     'width': 680,\n",
       "     'height': 300}]},\n",
       "  {'plot': [{'mark': 'barX',\n",
       "     'data': {'from': 'weather'},\n",
       "     'x': {'count': None},\n",
       "     'y': 'weather',\n",
       "     'fill': '#ccc',\n",
       "     'fillOpacity': 0.2},\n",
       "    {'mark': 'barX',\n",
       "     'data': {'from': 'weather', 'filterBy': '$range'},\n",
       "     'x': {'count': None},\n",
       "     'y': 'weather',\n",
       "     'fill': 'weather'},\n",
       "    {'select': 'toggleY', 'as': '$click'},\n",
       "    {'select': 'highlight', 'by': '$click'}],\n",
       "   'xDomain': 'Fixed',\n",
       "   'yDomain': '$domain',\n",
       "   'yLabel': None,\n",
       "   'colorDomain': '$domain',\n",
       "   'colorRange': '$colors',\n",
       "   'width': 680}]}"
      ]
     },
     "execution_count": 17,
     "metadata": {},
     "output_type": "execute_result"
    }
   ],
   "source": [
    "spec"
   ]
  },
  {
   "cell_type": "code",
   "execution_count": null,
   "metadata": {},
   "outputs": [],
   "source": []
  }
 ],
 "metadata": {
  "kernelspec": {
   "display_name": "Python 3 (ipykernel)",
   "language": "python",
   "name": "python3"
  },
  "language_info": {
   "codemirror_mode": {
    "name": "ipython",
    "version": 3
   },
   "file_extension": ".py",
   "mimetype": "text/x-python",
   "name": "python",
   "nbconvert_exporter": "python",
   "pygments_lexer": "ipython3",
   "version": "3.11.7"
  }
 },
 "nbformat": 4,
 "nbformat_minor": 4
}
